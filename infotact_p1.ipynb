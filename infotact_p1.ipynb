{
 "cells": [
  {
   "cell_type": "code",
   "execution_count": 1,
   "id": "62e70acc-2549-4470-86dc-58aa6e1c97a0",
   "metadata": {},
   "outputs": [
    {
     "name": "stdout",
     "output_type": "stream",
     "text": [
      "Guys lets do this\n"
     ]
    }
   ],
   "source": [
    "print(\"Guys lets do this\")"
   ]
  },
  {
   "cell_type": "code",
   "execution_count": 5,
   "id": "be8073c9-6bc3-4994-aa7a-7a52cf33a4e5",
   "metadata": {},
   "outputs": [],
   "source": [
    "import re\n",
    "import pandas as pd\n",
    "import nltk\n",
    "from nltk.tokenize import word_tokenize\n",
    "from sklearn.preprocessing import MultiLabelBinarizer\n",
    "from sklearn.preprocessing import LabelEncoder"
   ]
  },
  {
   "cell_type": "code",
   "execution_count": 19,
   "id": "e3bfe084-add9-45e2-9b98-10473113d2e1",
   "metadata": {},
   "outputs": [
    {
     "name": "stdout",
     "output_type": "stream",
     "text": [
      "<class 'pandas.core.frame.DataFrame'>\n",
      "RangeIndex: 3706 entries, 0 to 3705\n",
      "Data columns (total 4 columns):\n",
      " #   Column        Non-Null Count  Dtype \n",
      "---  ------        --------------  ----- \n",
      " 0   movie_id      3706 non-null   int64 \n",
      " 1   movie_title   3706 non-null   object\n",
      " 2   movie_genres  3706 non-null   object\n",
      " 3   poster_url    3648 non-null   object\n",
      "dtypes: int64(1), object(3)\n",
      "memory usage: 115.9+ KB\n",
      "Movies:\n",
      " None\n",
      "<class 'pandas.core.frame.DataFrame'>\n",
      "RangeIndex: 1000209 entries, 0 to 1000208\n",
      "Data columns (total 4 columns):\n",
      " #   Column       Non-Null Count    Dtype  \n",
      "---  ------       --------------    -----  \n",
      " 0   user_id      1000209 non-null  int64  \n",
      " 1   movie_id     1000209 non-null  int64  \n",
      " 2   user_rating  1000209 non-null  float64\n",
      " 3   timestamp    1000209 non-null  int64  \n",
      "dtypes: float64(1), int64(3)\n",
      "memory usage: 30.5 MB\n",
      "\n",
      "Ratings:\n",
      " None\n",
      "<class 'pandas.core.frame.DataFrame'>\n",
      "RangeIndex: 6040 entries, 0 to 6039\n",
      "Data columns (total 6 columns):\n",
      " #   Column                 Non-Null Count  Dtype  \n",
      "---  ------                 --------------  -----  \n",
      " 0   user_id                6040 non-null   int64  \n",
      " 1   user_gender            6040 non-null   bool   \n",
      " 2   bucketized_user_age    6040 non-null   float64\n",
      " 3   user_occupation_label  6040 non-null   int64  \n",
      " 4   user_occupation_text   6040 non-null   object \n",
      " 5   user_zip_code          6040 non-null   object \n",
      "dtypes: bool(1), float64(1), int64(2), object(2)\n",
      "memory usage: 242.0+ KB\n",
      "\n",
      "Users:\n",
      " None\n"
     ]
    }
   ],
   "source": [
    "movies=pd.read_csv('movies.csv')\n",
    "ratings=pd.read_csv('ratings.csv')\n",
    "users=pd.read_csv('users.csv')\n",
    "\n",
    "# Display basic info\n",
    "print(\"Movies:\\n\",movies.info())\n",
    "print(\"\\nRatings:\\n\",ratings.info())\n",
    "print(\"\\nUsers:\\n\",users.info())"
   ]
  },
  {
   "cell_type": "code",
   "execution_count": 20,
   "id": "28dfcc4e-3a51-4c56-ad79-9fa501b94545",
   "metadata": {},
   "outputs": [
    {
     "name": "stderr",
     "output_type": "stream",
     "text": [
      "[nltk_data] Downloading package punkt_tab to\n",
      "[nltk_data]     C:\\Users\\User\\AppData\\Roaming\\nltk_data...\n",
      "[nltk_data]   Package punkt_tab is already up-to-date!\n"
     ]
    },
    {
     "name": "stdout",
     "output_type": "stream",
     "text": [
      "   movie_id                   movie_title  \\\n",
      "0    3107.0              Backdraft (1991)   \n",
      "1    2114.0         Outsiders, The (1983)   \n",
      "2     256.0                 Junior (1994)   \n",
      "3    1389.0               Jaws 3-D (1983)   \n",
      "4    3635.0  Spy Who Loved Me, The (1977)   \n",
      "\n",
      "                                          poster_url    0  0, 1  0, 1, 10  \\\n",
      "0  https://image.tmdb.org/t/p/w500/bymJtYNIdiAiBR...  0.0   0.0       0.0   \n",
      "1  https://image.tmdb.org/t/p/w500/pl8Tf36TAOb2i5...  0.0   0.0       0.0   \n",
      "2  https://image.tmdb.org/t/p/w500/4tRF43CbEYHmV8...  0.0   0.0       0.0   \n",
      "3  https://image.tmdb.org/t/p/w500/kqDXj53F9paqVG...  0.0   0.0       0.0   \n",
      "4  https://image.tmdb.org/t/p/w500/3ZxHKFxMYvAko6...  1.0   0.0       0.0   \n",
      "\n",
      "   0, 1, 10, 16  0, 1, 13  0, 1, 13, 15  0, 1, 14  ...  9, 10  9, 13  \\\n",
      "0           0.0       0.0           0.0       0.0  ...    0.0    0.0   \n",
      "1           0.0       0.0           0.0       0.0  ...    0.0    0.0   \n",
      "2           0.0       0.0           0.0       0.0  ...    0.0    0.0   \n",
      "3           0.0       0.0           0.0       0.0  ...    0.0    0.0   \n",
      "4           0.0       0.0           0.0       0.0  ...    0.0    0.0   \n",
      "\n",
      "   9, 13, 16  9, 14, 16  9, 15  9, 15, 16  9, 16            clean_title  \\\n",
      "0        0.0        0.0    0.0        0.0    0.0              Backdraft   \n",
      "1        0.0        0.0    0.0        0.0    0.0         Outsiders, The   \n",
      "2        0.0        0.0    0.0        0.0    0.0                 Junior   \n",
      "3        0.0        0.0    0.0        0.0    0.0               Jaws 3-D   \n",
      "4        0.0        0.0    0.0        0.0    0.0  Spy Who Loved Me, The   \n",
      "\n",
      "                    title_tokens  title_token_count  \n",
      "0                    [Backdraft]                  1  \n",
      "1            [Outsiders, ,, The]                  3  \n",
      "2                       [Junior]                  1  \n",
      "3                    [Jaws, 3-D]                  2  \n",
      "4  [Spy, Who, Loved, Me, ,, The]                  6  \n",
      "\n",
      "[5 rows x 306 columns]\n"
     ]
    }
   ],
   "source": [
    "# Download necessary resources\n",
    "nltk.download('punkt_tab')\n",
    "\n",
    "# Drop duplicates and missing values\n",
    "movies.drop_duplicates(inplace=True)\n",
    "movies.dropna(inplace=True)\n",
    "\n",
    "# Split genres into lists\n",
    "movies['movie_genres'] = movies['movie_genres'].apply(lambda x: x.split('|'))\n",
    "\n",
    "# One-hot encode genres\n",
    "mlb = MultiLabelBinarizer()\n",
    "genre_dummies = pd.DataFrame(mlb.fit_transform(movies['movie_genres']), columns=mlb.classes_)\n",
    "movies = pd.concat([movies.drop('movie_genres', axis=1), genre_dummies], axis=1)\n",
    "movies['movie_title'] = movies['movie_title'].astype(str)\n",
    "# Clean and tokenize titles\n",
    "def clean_title(title):\n",
    "    return re.sub(r'\\(\\d{4}\\)', '', title).strip()\n",
    "\n",
    "movies['clean_title']=movies['movie_title'].apply(clean_title)\n",
    "movies['title_tokens']=movies['clean_title'].apply(word_tokenize)\n",
    "movies['title_token_count']=movies['title_tokens'].apply(len)\n",
    "print(movies.head())"
   ]
  },
  {
   "cell_type": "code",
   "execution_count": 14,
   "id": "29c1eb08-7047-4bf3-aac2-d37424fc4989",
   "metadata": {},
   "outputs": [
    {
     "name": "stdout",
     "output_type": "stream",
     "text": [
      "   user_id  movie_id  user_rating           timestamp  year  month  day\n",
      "0      130      3107          5.0 2000-12-21 20:56:33  2000     12   21\n",
      "1     3829      2114          4.0 2000-08-10 18:42:47  2000      8   10\n",
      "2     1265       256          1.0 2002-01-27 03:52:32  2002      1   27\n",
      "3     2896      1389          5.0 2000-10-20 01:16:45  2000     10   20\n",
      "4     5264      3635          4.0 2000-06-16 18:28:31  2000      6   16\n"
     ]
    }
   ],
   "source": [
    "# Drop duplicates and missing values\n",
    "ratings.drop_duplicates(inplace=True)\n",
    "ratings.dropna(inplace=True)\n",
    "\n",
    "# Convert timestamp to datetime\n",
    "ratings['timestamp'] = pd.to_datetime(ratings['timestamp'], unit='s')\n",
    "\n",
    "# Extract date features\n",
    "ratings['year'] = ratings['timestamp'].dt.year\n",
    "ratings['month'] = ratings['timestamp'].dt.month\n",
    "ratings['day'] = ratings['timestamp'].dt.day\n",
    "print(ratings.head())"
   ]
  },
  {
   "cell_type": "code",
   "execution_count": 16,
   "id": "fb21ad04-7118-4986-9b93-aaa6bf914c15",
   "metadata": {},
   "outputs": [
    {
     "name": "stdout",
     "output_type": "stream",
     "text": [
      "   user_id  user_gender  bucketized_user_age  user_occupation_label  \\\n",
      "0      130         True                 35.0                     18   \n",
      "1     3829        False                 25.0                      0   \n",
      "2     1265        False                 18.0                     21   \n",
      "3     2896         True                 18.0                     14   \n",
      "4     5264         True                 18.0                     17   \n",
      "\n",
      "   user_occupation_text user_zip_code gender occupation  gender_encoded  \\\n",
      "0   technician/engineer         50021   True         18               1   \n",
      "1     academic/educator         22307  False          0               0   \n",
      "2                writer         49321  False         21               0   \n",
      "3       sales/marketing         60073   True         14               1   \n",
      "4  college/grad student         15217   True         17               1   \n",
      "\n",
      "   occupation_encoded  \n",
      "0                  16  \n",
      "1                   0  \n",
      "2                  19  \n",
      "3                  12  \n",
      "4                  15  \n"
     ]
    }
   ],
   "source": [
    "# Drop duplicates and missing values\n",
    "users.drop_duplicates(inplace=True)\n",
    "users.dropna(inplace=True)\n",
    "\n",
    "# Convert to categorical\n",
    "users['gender'] = users['user_gender'].astype('category')\n",
    "users['occupation'] = users['user_occupation_label'].astype('category')\n",
    "\n",
    "# Encode gender and occupation\n",
    "users['gender_encoded'] = LabelEncoder().fit_transform(users['gender'])\n",
    "users['occupation_encoded'] = LabelEncoder().fit_transform(users['occupation'])\n",
    "\n",
    "print(users.head())"
   ]
  },
  {
   "cell_type": "code",
   "execution_count": null,
   "id": "2d07e51b-8e16-48c3-9e1e-8013ae07e167",
   "metadata": {},
   "outputs": [],
   "source": [
    "# Merge all into one DataFrame\n",
    "df = ratings.merge(users, on='user_id').merge(movies, on='movie_id')\n",
    "print(df.head())"
   ]
  }
 ],
 "metadata": {
  "kernelspec": {
   "display_name": "Python 3 (ipykernel)",
   "language": "python",
   "name": "python3"
  },
  "language_info": {
   "codemirror_mode": {
    "name": "ipython",
    "version": 3
   },
   "file_extension": ".py",
   "mimetype": "text/x-python",
   "name": "python",
   "nbconvert_exporter": "python",
   "pygments_lexer": "ipython3",
   "version": "3.10.11"
  }
 },
 "nbformat": 4,
 "nbformat_minor": 5
}
