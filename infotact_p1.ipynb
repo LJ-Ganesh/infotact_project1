{
 "cells": [
  {
   "cell_type": "code",
   "execution_count": 1,
   "id": "62e70acc-2549-4470-86dc-58aa6e1c97a0",
   "metadata": {},
   "outputs": [
    {
     "name": "stdout",
     "output_type": "stream",
     "text": [
      "Guys lets do this\n"
     ]
    }
   ],
   "source": [
    "print(\"Guys lets do this\")"
   ]
  },
  {
   "cell_type": "code",
   "execution_count": 1,
   "id": "e3bfe084-add9-45e2-9b98-10473113d2e1",
   "metadata": {},
   "outputs": [
    {
     "name": "stdout",
     "output_type": "stream",
     "text": [
      "   movie_id                   movie_title movie_genres  \\\n",
      "0      3107              Backdraft (1991)         0, 7   \n",
      "1      2114         Outsiders, The (1983)            7   \n",
      "2       256                 Junior (1994)        4, 15   \n",
      "3      1389               Jaws 3-D (1983)        0, 10   \n",
      "4      3635  Spy Who Loved Me, The (1977)            0   \n",
      "\n",
      "                                          poster_url  \n",
      "0  https://image.tmdb.org/t/p/w500/bymJtYNIdiAiBR...  \n",
      "1  https://image.tmdb.org/t/p/w500/pl8Tf36TAOb2i5...  \n",
      "2  https://image.tmdb.org/t/p/w500/4tRF43CbEYHmV8...  \n",
      "3  https://image.tmdb.org/t/p/w500/kqDXj53F9paqVG...  \n",
      "4  https://image.tmdb.org/t/p/w500/3ZxHKFxMYvAko6...  \n"
     ]
    }
   ],
   "source": [
    "import pandas as pd\n",
    "\n",
    "movies = pd.read_csv('movies.csv')\n",
    "print(movies.head())\n"
   ]
  },
  {
   "cell_type": "code",
   "execution_count": null,
   "id": "28dfcc4e-3a51-4c56-ad79-9fa501b94545",
   "metadata": {},
   "outputs": [],
   "source": []
  }
 ],
 "metadata": {
  "kernelspec": {
   "display_name": "Python 3 (ipykernel)",
   "language": "python",
   "name": "python3"
  },
  "language_info": {
   "codemirror_mode": {
    "name": "ipython",
    "version": 3
   },
   "file_extension": ".py",
   "mimetype": "text/x-python",
   "name": "python",
   "nbconvert_exporter": "python",
   "pygments_lexer": "ipython3",
   "version": "3.13.0"
  }
 },
 "nbformat": 4,
 "nbformat_minor": 5
}
