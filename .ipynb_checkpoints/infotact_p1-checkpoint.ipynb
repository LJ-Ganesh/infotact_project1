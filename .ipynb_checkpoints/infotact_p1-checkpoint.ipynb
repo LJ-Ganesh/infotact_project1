{
 "cells": [
  {
   "cell_type": "code",
   "execution_count": 44,
   "id": "62e70acc-2549-4470-86dc-58aa6e1c97a0",
   "metadata": {},
   "outputs": [
    {
     "name": "stdout",
     "output_type": "stream",
     "text": [
      "Guys lets do this\n"
     ]
    }
   ],
   "source": [
    "print(\"Guys lets do this\")"
   ]
  },
  {
   "cell_type": "code",
   "execution_count": 88,
   "id": "be8073c9-6bc3-4994-aa7a-7a52cf33a4e5",
   "metadata": {},
   "outputs": [],
   "source": [
    "import re\n",
    "import pandas as pd\n",
    "import nltk\n",
    "from nltk.tokenize import word_tokenize\n",
    "from sklearn.preprocessing import MultiLabelBinarizer\n",
    "from sklearn.preprocessing import LabelEncoder\n",
    "import matplotlib.pyplot as plt\n",
    "import seaborn as sns\n",
    "from datetime import datetime"
   ]
  },
  {
   "cell_type": "code",
   "execution_count": 89,
   "id": "e3bfe084-add9-45e2-9b98-10473113d2e1",
   "metadata": {},
   "outputs": [
    {
     "name": "stdout",
     "output_type": "stream",
     "text": [
      "<class 'pandas.core.frame.DataFrame'>\n",
      "RangeIndex: 3706 entries, 0 to 3705\n",
      "Data columns (total 4 columns):\n",
      " #   Column        Non-Null Count  Dtype \n",
      "---  ------        --------------  ----- \n",
      " 0   movie_id      3706 non-null   int64 \n",
      " 1   movie_title   3706 non-null   object\n",
      " 2   movie_genres  3706 non-null   object\n",
      " 3   poster_url    3648 non-null   object\n",
      "dtypes: int64(1), object(3)\n",
      "memory usage: 115.9+ KB\n",
      "Movies:\n",
      " None\n",
      "<class 'pandas.core.frame.DataFrame'>\n",
      "RangeIndex: 1000209 entries, 0 to 1000208\n",
      "Data columns (total 4 columns):\n",
      " #   Column       Non-Null Count    Dtype  \n",
      "---  ------       --------------    -----  \n",
      " 0   user_id      1000209 non-null  int64  \n",
      " 1   movie_id     1000209 non-null  int64  \n",
      " 2   user_rating  1000209 non-null  float64\n",
      " 3   timestamp    1000209 non-null  int64  \n",
      "dtypes: float64(1), int64(3)\n",
      "memory usage: 30.5 MB\n",
      "\n",
      "Ratings:\n",
      " None\n",
      "<class 'pandas.core.frame.DataFrame'>\n",
      "RangeIndex: 6040 entries, 0 to 6039\n",
      "Data columns (total 6 columns):\n",
      " #   Column                 Non-Null Count  Dtype  \n",
      "---  ------                 --------------  -----  \n",
      " 0   user_id                6040 non-null   int64  \n",
      " 1   user_gender            6040 non-null   bool   \n",
      " 2   bucketized_user_age    6040 non-null   float64\n",
      " 3   user_occupation_label  6040 non-null   int64  \n",
      " 4   user_occupation_text   6040 non-null   object \n",
      " 5   user_zip_code          6040 non-null   object \n",
      "dtypes: bool(1), float64(1), int64(2), object(2)\n",
      "memory usage: 242.0+ KB\n",
      "\n",
      "Users:\n",
      " None\n"
     ]
    }
   ],
   "source": [
    "movies=pd.read_csv('movies.csv')\n",
    "ratings_chunks = pd.read_csv('ratings.csv', chunksize=100000)\n",
    "ratings = pd.concat(ratings_chunks)\n",
    "users=pd.read_csv('users.csv')\n",
    "\n",
    "# Display basic info\n",
    "print(\"Movies:\\n\",movies.info())\n",
    "print(\"\\nRatings:\\n\",ratings.info())\n",
    "print(\"\\nUsers:\\n\",users.info())"
   ]
  },
  {
   "cell_type": "code",
   "execution_count": 62,
   "id": "28dfcc4e-3a51-4c56-ad79-9fa501b94545",
   "metadata": {},
   "outputs": [
    {
     "name": "stderr",
     "output_type": "stream",
     "text": [
      "[nltk_data] Downloading package punkt_tab to\n",
      "[nltk_data]     C:\\Users\\RGUKTS\\AppData\\Roaming\\nltk_data...\n",
      "[nltk_data]   Package punkt_tab is already up-to-date!\n"
     ]
    },
    {
     "name": "stdout",
     "output_type": "stream",
     "text": [
      "done\n"
     ]
    }
   ],
   "source": [
    "# Download necessary resources\n",
    "nltk.download('punkt_tab')\n",
    "\n",
    "# Drop duplicates and missing values\n",
    "movies.drop_duplicates(inplace=True)\n",
    "movies.dropna(inplace=True)\n",
    "\n",
    "# Split genres into lists\n",
    "movies['movie_genres'] = movies['movie_genres'].apply(lambda x: x.split('|'))\n",
    "\n",
    "# One-hot encode genres\n",
    "mlb = MultiLabelBinarizer()\n",
    "genres_encoded = pd.DataFrame(mlb.fit_transform(movies['movie_genres']), columns=mlb.classes_)\n",
    "movies = pd.concat([movies.drop('movie_genres', axis=1), genres_encoded], axis=1)\n",
    "movies['movie_movie_movie_title'] = movies['movie_movie_movie_title'].astype(str)\n",
    "# Clean and tokenize movie_movie_titles\n",
    "def clean_movie_movie_title(movie_movie_title):\n",
    "    return re.sub(r'\\(\\d{4}\\)', '', movie_movie_title).strip()\n",
    "\n",
    "movies['clean_movie_movie_title']=movies['movie_movie_movie_title'].apply(clean_movie_movie_title)\n",
    "movies['movie_movie_title_tokens']=movies['clean_movie_movie_title'].apply(word_tokenize)\n",
    "movies['movie_movie_title_token_count']=movies['movie_movie_title_tokens'].apply(len)\n",
    "print(\"done\")"
   ]
  },
  {
   "cell_type": "code",
   "execution_count": 63,
   "id": "29c1eb08-7047-4bf3-aac2-d37424fc4989",
   "metadata": {},
   "outputs": [
    {
     "name": "stdout",
     "output_type": "stream",
     "text": [
      "done\n"
     ]
    }
   ],
   "source": [
    "# Drop duplicates and missing values\n",
    "ratings.drop_duplicates(inplace=True)\n",
    "ratings.dropna(inplace=True)\n",
    "\n",
    "# Convert timestamp to datetime\n",
    "ratings['timestamp'] = pd.to_datetime(ratings['timestamp'], unit='s')\n",
    "\n",
    "# Extract date features\n",
    "ratings['year'] = ratings['timestamp'].dt.year\n",
    "ratings['month'] = ratings['timestamp'].dt.month\n",
    "ratings['day'] = ratings['timestamp'].dt.day\n",
    "print(\"done\")"
   ]
  },
  {
   "cell_type": "code",
   "execution_count": 64,
   "id": "fb21ad04-7118-4986-9b93-aaa6bf914c15",
   "metadata": {},
   "outputs": [
    {
     "name": "stdout",
     "output_type": "stream",
     "text": [
      "done\n"
     ]
    }
   ],
   "source": [
    "# Drop duplicates and missing values\n",
    "users.drop_duplicates(inplace=True)\n",
    "users.dropna(inplace=True)\n",
    "\n",
    "# Convert to categorical\n",
    "users['gender'] = users['user_gender'].astype('category')\n",
    "users['occupation'] = users['user_occupation_label'].astype('category')\n",
    "\n",
    "# Encode gender and occupation\n",
    "users['gender_encoded'] = LabelEncoder().fit_transform(users['gender'])\n",
    "users['occupation_encoded'] = LabelEncoder().fit_transform(users['occupation'])\n",
    "print(\"done\")"
   ]
  },
  {
   "cell_type": "code",
   "execution_count": 65,
   "id": "36938608-ac29-4b48-b7fd-e85ba1dbea70",
   "metadata": {},
   "outputs": [
    {
     "name": "stdout",
     "output_type": "stream",
     "text": [
      "\n",
      "=== Basic Dataset Information ===\n",
      "--------------------------------------------------\n",
      "Number of movies: 3701\n",
      "Number of ratings: 1000209\n",
      "Number of users: 6040\n"
     ]
    }
   ],
   "source": [
    "plt.style.use('seaborn-v0_8')\n",
    "sns.set_palette('husl')\n",
    "print(\"\\n=== Basic Dataset Information ===\")\n",
    "print(\"-\" * 50)\n",
    "print(f\"Number of movies: {len(movies)}\")\n",
    "print(f\"Number of ratings: {len(ratings)}\")\n",
    "print(f\"Number of users: {len(users)}\")"
   ]
  },
  {
   "cell_type": "code",
   "execution_count": 75,
   "id": "84632af5-b3ca-4aa0-ab71-51c3bf5e229b",
   "metadata": {},
   "outputs": [
    {
     "data": {
      "image/png": "[encoded data removed]",
      "text/plain": [
       "<Figure size 1000x800 with 1 Axes>"
      ]
     },
     "metadata": {},
     "output_type": "display_data"
    }
   ],
   "source": [
    "import matplotlib.pyplot as plt\n",
    "import seaborn as sns\n",
    "\n",
    "# Filter out rare genres (e.g., with less than 20 movies)\n",
    "filtered_genre_counts = genre_counts[genre_counts > 20]\n",
    "\n",
    "# Sort genres again (optional)\n",
    "filtered_genre_counts = filtered_genre_counts.sort_values(ascending=True)\n",
    "\n",
    "# Set a clean style\n",
    "sns.set(style=\"whitegrid\")\n",
    "\n",
    "# Plot\n",
    "plt.figure(figsize=(10, 8))\n",
    "sns.barplot(x=filtered_genre_counts.values, y=filtered_genre_counts.index)\n",
    "\n",
    "plt.movie_movie_title('Top Genres by Number of Movies', fontsize=14)\n",
    "plt.xlabel('Number of Movies', fontsize=12)\n",
    "plt.ylabel('Genre', fontsize=12)\n",
    "\n",
    "plt.xticks(fontsize=10)\n",
    "plt.yticks(fontsize=10)\n",
    "\n",
    "plt.tight_layout()\n",
    "plt.savefig('clean_genre_distribution.png')\n",
    "plt.show()\n"
   ]
  },
  {
   "cell_type": "code",
   "execution_count": 76,
   "id": "da205a4d-f04d-4f78-aa85-385043b88ab7",
   "metadata": {},
   "outputs": [
    {
     "name": "stdout",
     "output_type": "stream",
     "text": [
      "\n",
      "=== Ratings Analysis ===\n",
      "--------------------------------------------------\n",
      "Creating ratings distribution plot...\n"
     ]
    },
    {
     "data": {
      "image/png": "[encoded data removed]",
      "text/plain": [
       "<Figure size 1000x600 with 1 Axes>"
      ]
     },
     "metadata": {},
     "output_type": "display_data"
    },
    {
     "name": "stdout",
     "output_type": "stream",
     "text": [
      "Calculating average ratings per movie...\n",
      "\n",
      "Top 10 Highest Rated Movies (with at least 100 ratings):\n",
      "      movie_id      mean  count  \\\n",
      "1839      2019  4.560510    628   \n",
      "309        318  4.554558   2227   \n",
      "802        858  4.524966   2223   \n",
      "708        745  4.520548    657   \n",
      "49          50  4.517106   1783   \n",
      "513        527  4.510417   2304   \n",
      "1066      1148  4.507937    882   \n",
      "861        922  4.491489    470   \n",
      "1108      1198  4.477725   2514   \n",
      "843        904  4.476190   1050   \n",
      "\n",
      "                                            movie_title  \n",
      "1839  Seven Samurai (The Magnificent Seven) (Shichin...  \n",
      "309                    Shawshank Redemption, The (1994)  \n",
      "802                               Godfather, The (1972)  \n",
      "708                               Close Shave, A (1995)  \n",
      "49                           Usual Suspects, The (1995)  \n",
      "513                             Schindler's List (1993)  \n",
      "1066                         Wrong Trousers, The (1993)  \n",
      "861       Sunset Blvd. (a.k.a. Sunset Boulevard) (1950)  \n",
      "1108                     Raiders of the Lost Ark (1981)  \n",
      "843                                  Rear Window (1954)  \n"
     ]
    }
   ],
   "source": [
    "# ==========================\n",
    "# ✅ RATINGS ANALYSIS\n",
    "# ==========================\n",
    "print(\"\\n=== Ratings Analysis ===\")\n",
    "print(\"-\" * 50)\n",
    "\n",
    "# Distribution of ratings\n",
    "print(\"Creating ratings distribution plot...\")\n",
    "plt.figure(figsize=(10, 6))\n",
    "sns.histplot(data=ratings, x='user_rating', bins=20)\n",
    "plt.movie_movie_title('Distribution of Movie Ratings')\n",
    "plt.xlabel('Rating')\n",
    "plt.ylabel('Count')\n",
    "plt.savefig('ratings_distribution.png')\n",
    "plt.show()\n",
    "\n",
    "# Average rating per movie\n",
    "print(\"Calculating average ratings per movie...\")\n",
    "movie_ratings = ratings.groupby('movie_id')['user_rating'].agg(['mean', 'count']).reset_index()\n",
    "movie_ratings = movie_ratings.merge(movies[['movie_id', 'movie_movie_movie_title']], on='movie_id', how='left')\n",
    "\n",
    "print(\"\\nTop 10 Highest Rated Movies (with at least 100 ratings):\")\n",
    "print(movie_ratings[movie_ratings['count'] >= 100].sort_values('mean', ascending=False).head(10))"
   ]
  },
  {
   "cell_type": "code",
   "execution_count": 82,
   "id": "8e5fa77e-2bbb-4abf-824b-5ad5ce508ae4",
   "metadata": {},
   "outputs": [
    {
     "name": "stdout",
     "output_type": "stream",
     "text": [
      "\n",
      "=== User Behavior Analysis ===\n",
      "--------------------------------------------------\n",
      "Analyzing user rating patterns...\n"
     ]
    },
    {
     "data": {
      "image/png": "[encoded data removed]",
      "text/plain": [
       "<Figure size 1000x600 with 1 Axes>"
      ]
     },
     "metadata": {},
     "output_type": "display_data"
    },
    {
     "name": "stdout",
     "output_type": "stream",
     "text": [
      "\n",
      "User Rating Statistics:\n",
      "count    6040.000000\n",
      "mean      165.597517\n",
      "std       192.747029\n",
      "min        20.000000\n",
      "25%        44.000000\n",
      "50%        96.000000\n",
      "75%       208.000000\n",
      "max      2314.000000\n",
      "Name: rating_count, dtype: float64\n",
      "\n",
      "Saving analysis results...\n",
      "\n",
      "Analysis complete! Check the generated files:\n",
      "1. infotact_project1/genre_distribution.png\n",
      "2. infotact_project1/ratings_distribution.png\n",
      "3. infotact_project1/user_ratings_distribution.png\n",
      "4. infotact_project1/movie_ratings_analysis.csv\n",
      "5. infotact_project1/user_ratings_analysis.csv\n",
      "6. infotact_project1/genre_analysis.csv\n"
     ]
    }
   ],
   "source": [
    "# ==========================\n",
    "# ✅ USER BEHAVIOR ANALYSIS\n",
    "# ==========================\n",
    "print(\"\\n=== User Behavior Analysis ===\")\n",
    "print(\"-\" * 50)\n",
    "\n",
    "# Number of ratings per user\n",
    "print(\"Analyzing user rating patterns...\")\n",
    "user_ratings = ratings.groupby('user_id').size().reset_index(name='rating_count')\n",
    "\n",
    "plt.figure(figsize=(10, 6))\n",
    "sns.histplot(data=user_ratings, x='rating_count', bins=50)\n",
    "plt.movie_movie_title('Distribution of Ratings per User')\n",
    "plt.xlabel('Number of Ratings')\n",
    "plt.ylabel('Number of Users')\n",
    "plt.savefig('user_ratings_distribution.png')\n",
    "plt.show()\n",
    "\n",
    "print(\"\\nUser Rating Statistics:\")\n",
    "print(user_ratings['rating_count'].describe())\n",
    "\n",
    "# ==========================\n",
    "# ✅ EXPORT ANALYSIS FILES\n",
    "# ==========================\n",
    "print(\"\\nSaving analysis results...\")\n",
    "movie_ratings.to_csv('movie_ratings_analysis.csv', index=False)\n",
    "user_ratings.to_csv('user_ratings_analysis.csv', index=False)\n",
    "genre_df.to_csv('genre_analysis.csv', index=False)\n",
    "\n",
    "print(\"\\nAnalysis complete! Check the generated files:\")\n",
    "print(\"1. infotact_project1/genre_distribution.png\")\n",
    "print(\"2. infotact_project1/ratings_distribution.png\")\n",
    "print(\"3. infotact_project1/user_ratings_distribution.png\")\n",
    "print(\"4. infotact_project1/movie_ratings_analysis.csv\")\n",
    "print(\"5. infotact_project1/user_ratings_analysis.csv\")\n",
    "print(\"6. infotact_project1/genre_analysis.csv\")"
   ]
  },
  {
   "cell_type": "code",
   "execution_count": 83,
   "id": "7ab0fcc5-92cc-47a4-92de-a921fcac3aee",
   "metadata": {},
   "outputs": [
    {
     "name": "stdout",
     "output_type": "stream",
     "text": [
      "   user_id  movie_id  user_rating           timestamp  year  month  day  \\\n",
      "0      130      3107          5.0 2000-12-21 20:56:33  2000     12   21   \n",
      "1     3829      2114          4.0 2000-08-10 18:42:47  2000      8   10   \n",
      "2     1265       256          1.0 2002-01-27 03:52:32  2002      1   27   \n",
      "3     2896      1389          5.0 2000-10-20 01:16:45  2000     10   20   \n",
      "4     5264      3635          4.0 2000-06-16 18:28:31  2000      6   16   \n",
      "\n",
      "   user_gender  bucketized_user_age  user_occupation_label  ... 9, 10 9, 13  \\\n",
      "0         True                 35.0                     18  ...   0.0   0.0   \n",
      "1        False                 25.0                      0  ...   0.0   0.0   \n",
      "2        False                 18.0                     21  ...   0.0   0.0   \n",
      "3         True                 18.0                     14  ...   0.0   0.0   \n",
      "4         True                 18.0                     17  ...   0.0   0.0   \n",
      "\n",
      "  9, 13, 16 9, 14, 16  9, 15  9, 15, 16 9, 16            clean_title  \\\n",
      "0       0.0       0.0    0.0        0.0   0.0              Backdraft   \n",
      "1       0.0       0.0    0.0        0.0   0.0         Outsiders, The   \n",
      "2       0.0       0.0    0.0        0.0   0.0                 Junior   \n",
      "3       0.0       0.0    0.0        0.0   0.0               Jaws 3-D   \n",
      "4       0.0       0.0    0.0        0.0   0.0  Spy Who Loved Me, The   \n",
      "\n",
      "                    title_tokens  title_token_count  \n",
      "0                    [Backdraft]                  1  \n",
      "1            [Outsiders, ,, The]                  3  \n",
      "2                       [Junior]                  1  \n",
      "3                    [Jaws, 3-D]                  2  \n",
      "4  [Spy, Who, Loved, Me, ,, The]                  6  \n",
      "\n",
      "[5 rows x 321 columns]\n"
     ]
    }
   ],
   "source": [
    "df=ratings.merge(users, on='user_id').merge(movies, on='movie_id')\n",
    "print(df.head())"
   ]
  },
  {
   "cell_type": "code",
   "execution_count": 96,
   "id": "de5d2fc6-52fe-47d2-8f37-7cd7c972a231",
   "metadata": {},
   "outputs": [
    {
     "name": "stdout",
     "output_type": "stream",
     "text": [
      "Top 5 movie recommendations for User 1:\n",
      "   movie_id                 movie_title\n",
      "0      2081  Little Mermaid, The (1989)\n",
      "1      2078     Jungle Book, The (1967)\n",
      "2      2096      Sleeping Beauty (1959)\n",
      "3       364       Lion King, The (1994)\n",
      "4      1282             Fantasia (1940)\n"
     ]
    }
   ],
   "source": [
    "# Import necessary libraries\n",
    "from sklearn.metrics.pairwise import cosine_similarity\n",
    "\n",
    "# Pivot to create user-item matrix\n",
    "user_item = ratings.pivot_table(index='user_id', columns='movie_id', values='user_rating')\n",
    "user_item = user_item.fillna(0)\n",
    "\n",
    "# Compute cosine similarity between users\n",
    "user_sim = cosine_similarity(user_item)\n",
    "user_sim_df = pd.DataFrame(user_sim, index=user_item.index, columns=user_item.index)\n",
    "\n",
    "# Predict ratings for a user based on similar users\n",
    "def predict_ratings(target_user_id, user_item, user_sim_df, k=5):\n",
    "    sim_scores = user_sim_df[target_user_id].drop(target_user_id)\n",
    "    top_k_users = sim_scores.nlargest(k).index\n",
    "    sim_subset = sim_scores[top_k_users]\n",
    "    neighbor_ratings = user_item.loc[top_k_users]\n",
    "    weighted_sum = (neighbor_ratings.mul(sim_subset, axis=0)).sum(axis=0)\n",
    "    sim_sum = sim_subset.sum()\n",
    "    predicted_ratings = weighted_sum / sim_sum\n",
    "    return predicted_ratings\n",
    "\n",
    "# Recommend top N movies that the user hasn't rated\n",
    "def recommend_movies(target_user_id, user_item, user_sim_df, movies_df, k=5, n_recs=10):\n",
    "    predicted = predict_ratings(target_user_id, user_item, user_sim_df, k)\n",
    "    already_rated = user_item.loc[target_user_id] > 0\n",
    "    predicted = predicted[~already_rated]\n",
    "    top_movies = predicted.nlargest(n_recs).index\n",
    "    recommendations = movies_df[movies_df['movie_id'].isin(top_movies)][['movie_id', 'movie_movie_title']]\n",
    "    recommendations = recommendations.set_index('movie_id').loc[top_movies].reset_index()\n",
    "    return recommendations\n",
    "\n",
    "# Example: Get top 5 recommendations for user ID 1\n",
    "user_id = 1\n",
    "recommendations = recommend_movies(user_id, user_item, user_sim_df, movies, k=10, n_recs=5)\n",
    "\n",
    "print(f\"Top 5 movie recommendations for User {user_id}:\")\n",
    "print(recommendations)\n"
   ]
  },
  {
   "cell_type": "code",
   "execution_count": 97,
   "id": "8af5e24f-b709-444c-8746-ab9955458c0b",
   "metadata": {},
   "outputs": [
    {
     "name": "stdout",
     "output_type": "stream",
     "text": [
      "Top 5 movie recommendations for User 1 (Item-Based):\n",
      "   index                                  movie_title\n",
      "0   3209                  Loves of Carmen, The (1948)\n",
      "1   1915  Voyage to the Beginning of the World (1997)\n",
      "2   2438                         Outside Ozona (1998)\n",
      "3   3890                            Back Stage (2000)\n",
      "4   3530                    Smoking/No Smoking (1993)\n"
     ]
    }
   ],
   "source": [
    "# Import necessary libraries\n",
    "from sklearn.metrics.pairwise import cosine_similarity\n",
    "\n",
    "# Pivot to create item-user matrix (transpose of user-item)\n",
    "item_user = ratings.pivot_table(index='movie_id', columns='user_id', values='user_rating')\n",
    "item_user = item_user.fillna(0)\n",
    "\n",
    "# Compute cosine similarity between items (movies)\n",
    "item_sim = cosine_similarity(item_user)\n",
    "item_sim_df = pd.DataFrame(item_sim, index=item_user.index, columns=item_user.index)\n",
    "\n",
    "# Predict ratings for a user based on similar items\n",
    "def predict_item_based_ratings(target_user_id, item_user, item_sim_df):\n",
    "    user_ratings = item_user.loc[:, target_user_id]\n",
    "    rated_items = user_ratings[user_ratings > 0].index\n",
    "\n",
    "    predictions = {}\n",
    "    for item in item_user.index:\n",
    "        if user_ratings[item] == 0:\n",
    "            sim_items = item_sim_df.loc[item, rated_items]\n",
    "            sim_scores = sim_items.values\n",
    "            ratings = user_ratings[rated_items].values\n",
    "            if sim_scores.sum() != 0:\n",
    "                predicted_rating = np.dot(sim_scores, ratings) / sim_scores.sum()\n",
    "                predictions[item] = predicted_rating\n",
    "\n",
    "    return pd.Series(predictions).sort_values(ascending=False)\n",
    "\n",
    "# Recommend top N movies that the user hasn't rated\n",
    "def recommend_movies_item_based(target_user_id, item_user, item_sim_df, movies_df, n_recs=10):\n",
    "    predicted_ratings = predict_item_based_ratings(target_user_id, item_user, item_sim_df)\n",
    "    top_items = predicted_ratings.head(n_recs).index\n",
    "    recommendations = movies_df[movies_df['movie_id'].isin(top_items)][['movie_id', 'movie_title']]\n",
    "    recommendations = recommendations.set_index('movie_id').loc[top_items].reset_index()\n",
    "    return recommendations\n",
    "\n",
    "# Example: Get top 5 recommendations for user ID 1\n",
    "user_id = 1\n",
    "recommendations = recommend_movies_item_based(user_id, item_user, item_sim_df, movies, n_recs=5)\n",
    "\n",
    "print(f\"Top 5 movie recommendations for User {user_id} (Item-Based):\")\n",
    "print(recommendations)\n"
   ]
  },
  {
   "cell_type": "code",
   "execution_count": null,
   "id": "55975305-f82c-4ec1-985f-6c5ea9bf75aa",
   "metadata": {},
   "outputs": [],
   "source": []
  }
 ],
 "metadata": {
  "kernelspec": {
   "display_name": "Python 3 (ipykernel)",
   "language": "python",
   "name": "python3"
  },
  "language_info": {
   "codemirror_mode": {
    "name": "ipython",
    "version": 3
   },
   "file_extension": ".py",
   "mimetype": "text/x-python",
   "name": "python",
   "nbconvert_exporter": "python",
   "pygments_lexer": "ipython3",
   "version": "3.13.0"
  }
 },
 "nbformat": 4,
 "nbformat_minor": 5
}
